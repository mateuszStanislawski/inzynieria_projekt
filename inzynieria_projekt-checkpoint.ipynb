{
 "cells": [
  {
   "cell_type": "code",
   "execution_count": 1,
   "metadata": {},
   "outputs": [],
   "source": [
    "import pandas as pd\n",
    "import numpy as np\n",
    "import matplotlib.pyplot as plt\n",
    "import math"
   ]
  },
  {
   "cell_type": "code",
   "execution_count": 2,
   "metadata": {},
   "outputs": [],
   "source": [
    "plt.style.use('ggplot')"
   ]
  },
  {
   "cell_type": "code",
   "execution_count": 3,
   "metadata": {},
   "outputs": [
    {
     "data": {
      "text/html": [
       "<div>\n",
       "<style scoped>\n",
       "    .dataframe tbody tr th:only-of-type {\n",
       "        vertical-align: middle;\n",
       "    }\n",
       "\n",
       "    .dataframe tbody tr th {\n",
       "        vertical-align: top;\n",
       "    }\n",
       "\n",
       "    .dataframe thead th {\n",
       "        text-align: right;\n",
       "    }\n",
       "</style>\n",
       "<table border=\"1\" class=\"dataframe\">\n",
       "  <thead>\n",
       "    <tr style=\"text-align: right;\">\n",
       "      <th></th>\n",
       "      <th>Maturity</th>\n",
       "      <th>DF</th>\n",
       "      <th>Spread</th>\n",
       "      <th>Recovery</th>\n",
       "      <th>Survival</th>\n",
       "    </tr>\n",
       "  </thead>\n",
       "  <tbody>\n",
       "    <tr>\n",
       "      <th>0</th>\n",
       "      <td>0.000000</td>\n",
       "      <td>1.0000</td>\n",
       "      <td>0.00</td>\n",
       "      <td>0.4</td>\n",
       "      <td>0.0</td>\n",
       "    </tr>\n",
       "    <tr>\n",
       "      <th>1</th>\n",
       "      <td>0.082192</td>\n",
       "      <td>1.0005</td>\n",
       "      <td>5.98</td>\n",
       "      <td>NaN</td>\n",
       "      <td>0.0</td>\n",
       "    </tr>\n",
       "    <tr>\n",
       "      <th>2</th>\n",
       "      <td>0.167123</td>\n",
       "      <td>1.0010</td>\n",
       "      <td>11.96</td>\n",
       "      <td>NaN</td>\n",
       "      <td>0.0</td>\n",
       "    </tr>\n",
       "    <tr>\n",
       "      <th>3</th>\n",
       "      <td>0.249315</td>\n",
       "      <td>1.0015</td>\n",
       "      <td>17.94</td>\n",
       "      <td>NaN</td>\n",
       "      <td>0.0</td>\n",
       "    </tr>\n",
       "    <tr>\n",
       "      <th>4</th>\n",
       "      <td>0.334247</td>\n",
       "      <td>1.0021</td>\n",
       "      <td>23.92</td>\n",
       "      <td>NaN</td>\n",
       "      <td>0.0</td>\n",
       "    </tr>\n",
       "  </tbody>\n",
       "</table>\n",
       "</div>"
      ],
      "text/plain": [
       "   Maturity      DF  Spread  Recovery  Survival\n",
       "0  0.000000  1.0000    0.00       0.4       0.0\n",
       "1  0.082192  1.0005    5.98       NaN       0.0\n",
       "2  0.167123  1.0010   11.96       NaN       0.0\n",
       "3  0.249315  1.0015   17.94       NaN       0.0\n",
       "4  0.334247  1.0021   23.92       NaN       0.0"
      ]
     },
     "execution_count": 3,
     "metadata": {},
     "output_type": "execute_result"
    }
   ],
   "source": [
    "#wczytanie danych\n",
    "df = pd.read_excel(\"dane_cva.xlsx\", sheet_name=\"Arkusz2\")\n",
    "df[\"Survival\"] = 0.0\n",
    "df.head()"
   ]
  },
  {
   "cell_type": "code",
   "execution_count": 4,
   "metadata": {},
   "outputs": [],
   "source": [
    "df[\"Spread\"] = df[\"Spread\"].apply(lambda x : x/10000)"
   ]
  },
  {
   "cell_type": "code",
   "execution_count": 5,
   "metadata": {},
   "outputs": [],
   "source": [
    "#deklaracja zmiennych\n",
    "numerator1 = 0.0\n",
    "numerator2 = 0.0\n",
    "denominator1 = 0.0\n",
    "denominator2 = 0.0\n",
    "term_final = 0.0\n",
    "\n",
    "recoveryRate = 0.4\n",
    "LGD = 1 - recoveryRate\n",
    "\n",
    "t1 = df.at[0, \"Maturity\"]\n",
    "t2 = df.at[1, \"Maturity\"]\n",
    "delta_t = t2-t1"
   ]
  },
  {
   "cell_type": "code",
   "execution_count": 6,
   "metadata": {},
   "outputs": [],
   "source": [
    "#Obliczenie survival probabilities\n",
    "for row_index, row in df.iterrows():\n",
    "    #P(T01)\n",
    "    if(row_index == 0):\n",
    "        df.at[0,\"Survival\"] = 1\n",
    "    #P(T1)\n",
    "    elif(row_index == 1):\n",
    "        df.at[1, \"Survival\"] = LGD / (LGD + (delta_t * df.at[1, \"Spread\"]))\n",
    "    #P(TN)\n",
    "    else:\n",
    "        temp_counter = row_index\n",
    "        term1= 0.0\n",
    "        term2 = 0.0\n",
    "        j = 1\n",
    "        while(j > row_index - 1):\n",
    "            numerator1_temp = df.at[row_index, \"DF\"] * ((LGD * df.at[row_index - 1, \"Survival\"])) - ((LGD + (delta_t * df.at[row_index, \"Spread\"]))*(df.at[row_index, \"Survival\"]))\n",
    "            numerator1 = numerator1 + numerator_temp\n",
    "            row_index = row_index - 1\n",
    "        row_index = temp_counter\n",
    "        denominator1 = ((df.at[row_index, \"DF\"]) * (LGD + (delta_t * df.at[row_index, \"Spread\"])))\n",
    "        term1_temp = numerator1/denominator1\n",
    "        term = term1 + term1_temp\n",
    "\n",
    "        numerator2 = (LGD * df.at[row_index - 1, \"Survival\"])\n",
    "        denominator2 = (LGD + (delta_t * df.at[row_index, \"Spread\"]))\n",
    "        term2_temp = numerator2/denominator2\n",
    "        term2 = term2 + term2_temp\n",
    "\n",
    "        term_final = term1 + term2\n",
    "        df.at[row_index, \"Survival\"] = term_final\n"
   ]
  },
  {
   "cell_type": "code",
   "execution_count": 7,
   "metadata": {},
   "outputs": [
    {
     "data": {
      "image/png": "[encoded data removed]",
      "text/plain": [
       "<Figure size 432x288 with 1 Axes>"
      ]
     },
     "metadata": {},
     "output_type": "display_data"
    }
   ],
   "source": [
    "plt.plot(df[\"Maturity\"], df[\"Spread\"])\n",
    "plt.grid(True)\n",
    "plt.xlabel(\"Year\")\n",
    "plt.ylabel(\"Spread\")\n",
    "plt.title(\"CDS Spread\")\n",
    "#plt.ylim(bottom = 0.9)\n",
    "plt.savefig(\"spread.png\")"
   ]
  },
  {
   "cell_type": "code",
   "execution_count": 8,
   "metadata": {},
   "outputs": [
    {
     "data": {
      "image/png": "[encoded data removed]",
      "text/plain": [
       "<Figure size 432x288 with 1 Axes>"
      ]
     },
     "metadata": {},
     "output_type": "display_data"
    }
   ],
   "source": [
    "plt.plot(df[\"Maturity\"], df[\"Survival\"])\n",
    "plt.grid(True)\n",
    "plt.xlabel(\"Year\")\n",
    "plt.ylabel(\"Probability\")\n",
    "plt.title(\"Survival Probability\")\n",
    "plt.ylim(bottom = 0.9)\n",
    "plt.savefig(\"survival_prob.png\")"
   ]
  },
  {
   "cell_type": "code",
   "execution_count": 9,
   "metadata": {},
   "outputs": [],
   "source": [
    "df[\"default_probability\"] = df[\"Survival\"].apply(lambda x : 1-x)\n",
    "#df"
   ]
  },
  {
   "cell_type": "code",
   "execution_count": 10,
   "metadata": {},
   "outputs": [],
   "source": [
    "df[\"dt\"] = 0.0\n",
    "for row_index, row in df.iterrows():\n",
    "    if(row_index == 0):\n",
    "        df.at[0, \"dt\"] = 0\n",
    "    else:\n",
    "        df.at[row_index, \"dt\"] = df.at[row_index, \"Maturity\"] - df.at[row_index - 1, \"Maturity\"]\n",
    "    "
   ]
  },
  {
   "cell_type": "code",
   "execution_count": 11,
   "metadata": {},
   "outputs": [],
   "source": [
    "df[\"hr\"] = 0.0\n",
    "for row_index, row in df.iterrows():\n",
    "    if(row_index == 0):\n",
    "        df.at[0, \"hr\"] = 0\n",
    "    else:\n",
    "        df.at[row_index, \"hr\"] = (-np.log(df.at[row_index, \"Survival\"]/df.at[row_index - 1, \"Survival\"])) / df.at[row_index, \"dt\"] "
   ]
  },
  {
   "cell_type": "code",
   "execution_count": 12,
   "metadata": {},
   "outputs": [
    {
     "data": {
      "text/html": [
       "<div>\n",
       "<style scoped>\n",
       "    .dataframe tbody tr th:only-of-type {\n",
       "        vertical-align: middle;\n",
       "    }\n",
       "\n",
       "    .dataframe tbody tr th {\n",
       "        vertical-align: top;\n",
       "    }\n",
       "\n",
       "    .dataframe thead th {\n",
       "        text-align: right;\n",
       "    }\n",
       "</style>\n",
       "<table border=\"1\" class=\"dataframe\">\n",
       "  <thead>\n",
       "    <tr style=\"text-align: right;\">\n",
       "      <th></th>\n",
       "      <th>Maturity</th>\n",
       "      <th>DF</th>\n",
       "      <th>Spread</th>\n",
       "      <th>Recovery</th>\n",
       "      <th>Survival</th>\n",
       "      <th>default_probability</th>\n",
       "      <th>dt</th>\n",
       "      <th>hr</th>\n",
       "    </tr>\n",
       "  </thead>\n",
       "  <tbody>\n",
       "    <tr>\n",
       "      <th>0</th>\n",
       "      <td>0.000000</td>\n",
       "      <td>1.0000</td>\n",
       "      <td>0.000000</td>\n",
       "      <td>0.4</td>\n",
       "      <td>1.000000</td>\n",
       "      <td>0.000000</td>\n",
       "      <td>0.000000</td>\n",
       "      <td>0.000000</td>\n",
       "    </tr>\n",
       "    <tr>\n",
       "      <th>1</th>\n",
       "      <td>0.082192</td>\n",
       "      <td>1.0005</td>\n",
       "      <td>0.000598</td>\n",
       "      <td>NaN</td>\n",
       "      <td>0.999918</td>\n",
       "      <td>0.000082</td>\n",
       "      <td>0.082192</td>\n",
       "      <td>0.000997</td>\n",
       "    </tr>\n",
       "    <tr>\n",
       "      <th>2</th>\n",
       "      <td>0.167123</td>\n",
       "      <td>1.0010</td>\n",
       "      <td>0.001196</td>\n",
       "      <td>NaN</td>\n",
       "      <td>0.999754</td>\n",
       "      <td>0.000246</td>\n",
       "      <td>0.084932</td>\n",
       "      <td>0.001929</td>\n",
       "    </tr>\n",
       "    <tr>\n",
       "      <th>3</th>\n",
       "      <td>0.249315</td>\n",
       "      <td>1.0015</td>\n",
       "      <td>0.001794</td>\n",
       "      <td>NaN</td>\n",
       "      <td>0.999509</td>\n",
       "      <td>0.000491</td>\n",
       "      <td>0.082192</td>\n",
       "      <td>0.002990</td>\n",
       "    </tr>\n",
       "    <tr>\n",
       "      <th>4</th>\n",
       "      <td>0.334247</td>\n",
       "      <td>1.0021</td>\n",
       "      <td>0.002392</td>\n",
       "      <td>NaN</td>\n",
       "      <td>0.999181</td>\n",
       "      <td>0.000819</td>\n",
       "      <td>0.084932</td>\n",
       "      <td>0.003857</td>\n",
       "    </tr>\n",
       "  </tbody>\n",
       "</table>\n",
       "</div>"
      ],
      "text/plain": [
       "   Maturity      DF    Spread  Recovery  Survival  default_probability  \\\n",
       "0  0.000000  1.0000  0.000000       0.4  1.000000             0.000000   \n",
       "1  0.082192  1.0005  0.000598       NaN  0.999918             0.000082   \n",
       "2  0.167123  1.0010  0.001196       NaN  0.999754             0.000246   \n",
       "3  0.249315  1.0015  0.001794       NaN  0.999509             0.000491   \n",
       "4  0.334247  1.0021  0.002392       NaN  0.999181             0.000819   \n",
       "\n",
       "         dt        hr  \n",
       "0  0.000000  0.000000  \n",
       "1  0.082192  0.000997  \n",
       "2  0.084932  0.001929  \n",
       "3  0.082192  0.002990  \n",
       "4  0.084932  0.003857  "
      ]
     },
     "execution_count": 12,
     "metadata": {},
     "output_type": "execute_result"
    }
   ],
   "source": [
    "df.head()"
   ]
  },
  {
   "cell_type": "code",
   "execution_count": 13,
   "metadata": {},
   "outputs": [
    {
     "data": {
      "image/png": "[encoded data removed]",
      "text/plain": [
       "<Figure size 432x288 with 1 Axes>"
      ]
     },
     "metadata": {},
     "output_type": "display_data"
    }
   ],
   "source": [
    "plt.plot(df[\"Maturity\"], df[\"hr\"])\n",
    "plt.grid(True)\n",
    "plt.xlabel(\"Year\")\n",
    "plt.ylabel(\"Probability\")\n",
    "plt.title(\"Hazard Rate\")\n",
    "plt.ylim(top =  0.05)\n",
    "plt.savefig(\"hazard_rate.png\")"
   ]
  },
  {
   "cell_type": "code",
   "execution_count": 14,
   "metadata": {
    "scrolled": true
   },
   "outputs": [
    {
     "data": {
      "image/png": "[encoded data removed]",
      "text/plain": [
       "<Figure size 432x288 with 1 Axes>"
      ]
     },
     "metadata": {},
     "output_type": "display_data"
    }
   ],
   "source": [
    "plt.plot(df[\"Maturity\"], df[\"hr\"])\n",
    "plt.plot(df[\"Maturity\"], df[\"default_probability\"])\n",
    "plt.grid(True)\n",
    "plt.xlabel(\"Year\")\n",
    "plt.ylabel(\"Probability\")\n",
    "plt.title(\"Probability of  Default\")\n",
    "plt.ylim(top = 0.05)\n",
    "plt.savefig(\"default_prob.png\")"
   ]
  },
  {
   "cell_type": "code",
   "execution_count": null,
   "metadata": {},
   "outputs": [],
   "source": []
  },
  {
   "cell_type": "code",
   "execution_count": null,
   "metadata": {},
   "outputs": [],
   "source": []
  }
 ],
 "metadata": {
  "kernelspec": {
   "display_name": "Python 3",
   "language": "python",
   "name": "python3"
  },
  "language_info": {
   "codemirror_mode": {
    "name": "ipython",
    "version": 3
   },
   "file_extension": ".py",
   "mimetype": "text/x-python",
   "name": "python",
   "nbconvert_exporter": "python",
   "pygments_lexer": "ipython3",
   "version": "3.8.3"
  }
 },
 "nbformat": 4,
 "nbformat_minor": 4
}
